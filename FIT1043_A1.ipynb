{
  "cells": [
    {
      "cell_type": "code",
      "execution_count": null,
      "id": "27b5c7c6-7568-47cc-b48c-2f00bcf492b8",
      "metadata": {
        "id": "27b5c7c6-7568-47cc-b48c-2f00bcf492b8"
      },
      "outputs": [],
      "source": [
        "import pandas as pd\n",
        "import matplotlib.pyplot as plt\n",
        "%matplotlib inline"
      ]
    },
    {
      "cell_type": "markdown",
      "id": "7d58b34d-c792-4b4a-af2b-2113d220ceab",
      "metadata": {
        "id": "7d58b34d-c792-4b4a-af2b-2113d220ceab"
      },
      "source": [
        "### A1 Exploring the dataset (1.5 marks)"
      ]
    },
    {
      "cell_type": "code",
      "execution_count": null,
      "id": "579ff1e7-4ebc-4fb9-b1e8-88185f5abdaa",
      "metadata": {
        "id": "579ff1e7-4ebc-4fb9-b1e8-88185f5abdaa",
        "outputId": "83bcf0d5-3ba8-4812-b75d-a2235b7a1ab9"
      },
      "outputs": [
        {
          "data": {
            "text/html": [
              "<div>\n",
              "<style scoped>\n",
              "    .dataframe tbody tr th:only-of-type {\n",
              "        vertical-align: middle;\n",
              "    }\n",
              "\n",
              "    .dataframe tbody tr th {\n",
              "        vertical-align: top;\n",
              "    }\n",
              "\n",
              "    .dataframe thead th {\n",
              "        text-align: right;\n",
              "    }\n",
              "</style>\n",
              "<table border=\"1\" class=\"dataframe\">\n",
              "  <thead>\n",
              "    <tr style=\"text-align: right;\">\n",
              "      <th></th>\n",
              "      <th>StudentID</th>\n",
              "      <th>Age</th>\n",
              "      <th>ParentalEducation</th>\n",
              "      <th>StudyTimeWeekly</th>\n",
              "      <th>Absences</th>\n",
              "      <th>Tutoring</th>\n",
              "      <th>ParentalSupport</th>\n",
              "      <th>Extracurricular</th>\n",
              "      <th>Sports</th>\n",
              "      <th>Music</th>\n",
              "      <th>Volunteering</th>\n",
              "      <th>GPA</th>\n",
              "      <th>GradeClass</th>\n",
              "    </tr>\n",
              "  </thead>\n",
              "  <tbody>\n",
              "    <tr>\n",
              "      <th>0</th>\n",
              "      <td>1640</td>\n",
              "      <td>18</td>\n",
              "      <td>Some College</td>\n",
              "      <td>10.318918</td>\n",
              "      <td>5</td>\n",
              "      <td>No</td>\n",
              "      <td>2</td>\n",
              "      <td>No</td>\n",
              "      <td>Yes</td>\n",
              "      <td>No</td>\n",
              "      <td>No</td>\n",
              "      <td>2.655994</td>\n",
              "      <td>C</td>\n",
              "    </tr>\n",
              "    <tr>\n",
              "      <th>1</th>\n",
              "      <td>2939</td>\n",
              "      <td>16</td>\n",
              "      <td>Bachelor's</td>\n",
              "      <td>6.517803</td>\n",
              "      <td>2</td>\n",
              "      <td>Yes</td>\n",
              "      <td>2</td>\n",
              "      <td>No</td>\n",
              "      <td>Yes</td>\n",
              "      <td>No</td>\n",
              "      <td>No</td>\n",
              "      <td>3.474562</td>\n",
              "      <td>B</td>\n",
              "    </tr>\n",
              "    <tr>\n",
              "      <th>2</th>\n",
              "      <td>2877</td>\n",
              "      <td>15</td>\n",
              "      <td>Some College</td>\n",
              "      <td>0.815700</td>\n",
              "      <td>1</td>\n",
              "      <td>No</td>\n",
              "      <td>1</td>\n",
              "      <td>No</td>\n",
              "      <td>No</td>\n",
              "      <td>Yes</td>\n",
              "      <td>Yes</td>\n",
              "      <td>2.806878</td>\n",
              "      <td>C</td>\n",
              "    </tr>\n",
              "    <tr>\n",
              "      <th>3</th>\n",
              "      <td>1628</td>\n",
              "      <td>16</td>\n",
              "      <td>High School</td>\n",
              "      <td>6.304335</td>\n",
              "      <td>8</td>\n",
              "      <td>No</td>\n",
              "      <td>3</td>\n",
              "      <td>No</td>\n",
              "      <td>No</td>\n",
              "      <td>No</td>\n",
              "      <td>No</td>\n",
              "      <td>2.150546</td>\n",
              "      <td>D</td>\n",
              "    </tr>\n",
              "    <tr>\n",
              "      <th>4</th>\n",
              "      <td>2052</td>\n",
              "      <td>15</td>\n",
              "      <td>Some College</td>\n",
              "      <td>2.516047</td>\n",
              "      <td>14</td>\n",
              "      <td>Yes</td>\n",
              "      <td>3</td>\n",
              "      <td>Yes</td>\n",
              "      <td>No</td>\n",
              "      <td>No</td>\n",
              "      <td>No</td>\n",
              "      <td>2.253871</td>\n",
              "      <td>D</td>\n",
              "    </tr>\n",
              "  </tbody>\n",
              "</table>\n",
              "</div>"
            ],
            "text/plain": [
              "   StudentID  Age ParentalEducation  StudyTimeWeekly  Absences Tutoring  \\\n",
              "0       1640   18      Some College        10.318918         5       No   \n",
              "1       2939   16        Bachelor's         6.517803         2      Yes   \n",
              "2       2877   15      Some College         0.815700         1       No   \n",
              "3       1628   16       High School         6.304335         8       No   \n",
              "4       2052   15      Some College         2.516047        14      Yes   \n",
              "\n",
              "   ParentalSupport Extracurricular Sports Music Volunteering       GPA  \\\n",
              "0                2              No    Yes    No           No  2.655994   \n",
              "1                2              No    Yes    No           No  3.474562   \n",
              "2                1              No     No   Yes          Yes  2.806878   \n",
              "3                3              No     No    No           No  2.150546   \n",
              "4                3             Yes     No    No           No  2.253871   \n",
              "\n",
              "  GradeClass  \n",
              "0          C  \n",
              "1          B  \n",
              "2          C  \n",
              "3          D  \n",
              "4          D  "
            ]
          },
          "execution_count": 211,
          "metadata": {},
          "output_type": "execute_result"
        }
      ],
      "source": [
        "student_list = pd.read_csv(\"Student_List.csv\")\n",
        "student_list.head()"
      ]
    },
    {
      "cell_type": "markdown",
      "id": "31372a21-c047-4887-b1e2-71da8e59e813",
      "metadata": {
        "id": "31372a21-c047-4887-b1e2-71da8e59e813"
      },
      "source": [
        "1. How many students are there in this dataset?"
      ]
    },
    {
      "cell_type": "code",
      "execution_count": null,
      "id": "bc84f32c-d432-4f57-850f-97b25f6c3f20",
      "metadata": {
        "id": "bc84f32c-d432-4f57-850f-97b25f6c3f20",
        "outputId": "fbcd9421-58af-46c6-ce1e-0419c50d37d7"
      },
      "outputs": [
        {
          "data": {
            "text/plain": [
              "(1500, 13)"
            ]
          },
          "execution_count": 212,
          "metadata": {},
          "output_type": "execute_result"
        }
      ],
      "source": [
        "student_list.shape\n",
        "# 1500 students (1500 rows)"
      ]
    },
    {
      "cell_type": "markdown",
      "id": "3f14d6e6-1be9-4d47-9f45-81c3b6901d6a",
      "metadata": {
        "id": "3f14d6e6-1be9-4d47-9f45-81c3b6901d6a"
      },
      "source": [
        "2. What is the age range of students in this dataset?"
      ]
    },
    {
      "cell_type": "code",
      "execution_count": null,
      "id": "c4e43287-ec22-4619-b5a9-6db9f4d0f4d7",
      "metadata": {
        "id": "c4e43287-ec22-4619-b5a9-6db9f4d0f4d7",
        "outputId": "d2d83726-a6f5-4919-e50c-5d1eb63dd1e3"
      },
      "outputs": [
        {
          "data": {
            "text/plain": [
              "3"
            ]
          },
          "execution_count": 213,
          "metadata": {},
          "output_type": "execute_result"
        }
      ],
      "source": [
        "age_range = max(student_list[\"Age\"]) - min(student_list[\"Age\"])\n",
        "age_range\n",
        "# age range is 3 years"
      ]
    },
    {
      "cell_type": "markdown",
      "id": "4d4e305d-2a61-4091-b0f8-eb6cc9174ce2",
      "metadata": {
        "id": "4d4e305d-2a61-4091-b0f8-eb6cc9174ce2"
      },
      "source": [
        "3. Identify and discuss the data types of each column in the dataset."
      ]
    },
    {
      "cell_type": "code",
      "execution_count": null,
      "id": "55d9e173-1bd1-4bd0-998e-7070e6390a9c",
      "metadata": {
        "id": "55d9e173-1bd1-4bd0-998e-7070e6390a9c",
        "outputId": "0453cbf6-7f50-4c70-d247-a7295b216905"
      },
      "outputs": [
        {
          "data": {
            "text/plain": [
              "StudentID              int64\n",
              "Age                    int64\n",
              "ParentalEducation     object\n",
              "StudyTimeWeekly      float64\n",
              "Absences               int64\n",
              "Tutoring              object\n",
              "ParentalSupport        int64\n",
              "Extracurricular       object\n",
              "Sports                object\n",
              "Music                 object\n",
              "Volunteering          object\n",
              "GPA                  float64\n",
              "GradeClass            object\n",
              "dtype: object"
            ]
          },
          "execution_count": 214,
          "metadata": {},
          "output_type": "execute_result"
        }
      ],
      "source": [
        "student_list.dtypes"
      ]
    },
    {
      "cell_type": "markdown",
      "id": "78db6732-21f3-453a-9575-58da17c8b44e",
      "metadata": {
        "id": "78db6732-21f3-453a-9575-58da17c8b44e"
      },
      "source": [
        "- The data types for student ID is integer as it only consists of numbers\n",
        "- The data types for Age is integer\n",
        "- The data types for ParentalEducation is object as it consists of a string of characters for each category\n",
        "- The data types for StudyTimeWeekly is float as it contains decimal values\n",
        "- The data types for Absences is integer (number of times of absence)\n",
        "- The data types for Tutoring is object made up of string characters 'Yes' or 'No'\n",
        "- The data types for ParentalSupport is integer, the greater the integer value, the higher the support\n",
        "- The data types for Extracurricular, Sports, Music and Volunteering are objects\n",
        "- The data types for GPA is float (consists of decimal values)\n",
        "- The data types for GradeClass is object stored in strings of characters"
      ]
    },
    {
      "cell_type": "markdown",
      "id": "98f38076-1a0a-4eaa-bf77-a0f2c2efe1fe",
      "metadata": {
        "id": "98f38076-1a0a-4eaa-bf77-a0f2c2efe1fe"
      },
      "source": [
        "4. GradeClass corresponds to different categories of grades, where, for example, 'A'\n",
        "corresponds to the highest grade (GPA ≥ 3.5) and 'F' corresponds to the lowest grade\n",
        "(GPA < 2.0). Calculate the percentage of students in each grade category."
      ]
    },
    {
      "cell_type": "code",
      "execution_count": null,
      "id": "906c4b61-c950-4cf7-8d2e-46f7c5d1d3c6",
      "metadata": {
        "id": "906c4b61-c950-4cf7-8d2e-46f7c5d1d3c6",
        "outputId": "32305477-40c1-46e7-c715-00ce34a24e5d"
      },
      "outputs": [
        {
          "data": {
            "text/html": [
              "<div>\n",
              "<style scoped>\n",
              "    .dataframe tbody tr th:only-of-type {\n",
              "        vertical-align: middle;\n",
              "    }\n",
              "\n",
              "    .dataframe tbody tr th {\n",
              "        vertical-align: top;\n",
              "    }\n",
              "\n",
              "    .dataframe thead th {\n",
              "        text-align: right;\n",
              "    }\n",
              "</style>\n",
              "<table border=\"1\" class=\"dataframe\">\n",
              "  <thead>\n",
              "    <tr style=\"text-align: right;\">\n",
              "      <th></th>\n",
              "      <th>GradeClass</th>\n",
              "      <th>number</th>\n",
              "      <th>percentage</th>\n",
              "    </tr>\n",
              "  </thead>\n",
              "  <tbody>\n",
              "    <tr>\n",
              "      <th>0</th>\n",
              "      <td>A</td>\n",
              "      <td>60</td>\n",
              "      <td>4.000000</td>\n",
              "    </tr>\n",
              "    <tr>\n",
              "      <th>1</th>\n",
              "      <td>B</td>\n",
              "      <td>183</td>\n",
              "      <td>12.200000</td>\n",
              "    </tr>\n",
              "    <tr>\n",
              "      <th>2</th>\n",
              "      <td>C</td>\n",
              "      <td>244</td>\n",
              "      <td>16.266667</td>\n",
              "    </tr>\n",
              "    <tr>\n",
              "      <th>3</th>\n",
              "      <td>D</td>\n",
              "      <td>248</td>\n",
              "      <td>16.533333</td>\n",
              "    </tr>\n",
              "    <tr>\n",
              "      <th>4</th>\n",
              "      <td>F</td>\n",
              "      <td>765</td>\n",
              "      <td>51.000000</td>\n",
              "    </tr>\n",
              "  </tbody>\n",
              "</table>\n",
              "</div>"
            ],
            "text/plain": [
              "  GradeClass  number  percentage\n",
              "0          A      60    4.000000\n",
              "1          B     183   12.200000\n",
              "2          C     244   16.266667\n",
              "3          D     248   16.533333\n",
              "4          F     765   51.000000"
            ]
          },
          "execution_count": 215,
          "metadata": {},
          "output_type": "execute_result"
        }
      ],
      "source": [
        "fun = {'GradeClass':'count'}\n",
        "groupbyClassGrade = student_list.groupby('GradeClass').agg(fun)\n",
        "groupbyClassGrade.rename(\n",
        "    columns = {'GradeClass':'number'},\n",
        "    inplace = True\n",
        ")\n",
        "groupbyClassGrade = groupbyClassGrade.reset_index()\n",
        "groupbyClassGrade['percentage'] = groupbyClassGrade.number/sum(groupbyClassGrade.number)*100\n",
        "groupbyClassGrade"
      ]
    },
    {
      "cell_type": "markdown",
      "id": "83945706-690c-48e5-9b47-f0c371aa0c17",
      "metadata": {
        "id": "83945706-690c-48e5-9b47-f0c371aa0c17"
      },
      "source": [
        "5. Create a pie chart to show the proportion of students in each GradeClass and discuss\n",
        "your observations."
      ]
    },
    {
      "cell_type": "code",
      "execution_count": null,
      "id": "f573f6d8-7b6d-479c-9766-ebeb6280021e",
      "metadata": {
        "id": "f573f6d8-7b6d-479c-9766-ebeb6280021e",
        "outputId": "5a2fb772-b05d-4941-95d7-5489feac2a01"
      },
      "outputs": [
        {
          "data": {
            "image/png": "[encoded data removed]",
            "text/plain": [
              "<Figure size 640x480 with 1 Axes>"
            ]
          },
          "metadata": {},
          "output_type": "display_data"
        }
      ],
      "source": [
        "plt.pie(groupbyClassGrade['percentage'], labels=groupbyClassGrade['GradeClass'], autopct='%1.1f%%')\n",
        "plt.title('Distribution of Grades')\n",
        "plt.show()"
      ]
    },
    {
      "cell_type": "markdown",
      "id": "87e371d1-0b3f-4df2-96c0-8d29a05dac7e",
      "metadata": {
        "id": "87e371d1-0b3f-4df2-96c0-8d29a05dac7e"
      },
      "source": [
        "- based on the pie chart, only 4 percent of students get A for their grades\n",
        "- while more than half (51 percent) of students got an F grade\n",
        "- This reflects that the overall performance of students in their academics is poor\n",
        "- This might be because the subject is too challenging for most students\n",
        "- This might also reflect some problems in the school's teaching style or students in this school are just generally weak in their academics but good in other aspects\n",
        "- The school needs to come up with plans to improve the overall grades of students"
      ]
    },
    {
      "cell_type": "markdown",
      "id": "83d2a1c7-fcf5-44c6-8fc6-9643fadccfc7",
      "metadata": {
        "id": "83d2a1c7-fcf5-44c6-8fc6-9643fadccfc7"
      },
      "source": [
        "### A2 Exploring Parental Education (1.5 marks)"
      ]
    },
    {
      "cell_type": "markdown",
      "id": "6f636b0b-a879-4a4c-af9b-acf0dbb61bee",
      "metadata": {
        "id": "6f636b0b-a879-4a4c-af9b-acf0dbb61bee"
      },
      "source": [
        "1. Determine the frequency of different levels of parental education.\n",
        "-  How many parents have the highest education level (denoted by Higher) in\n",
        "this datase\n",
        "-  How many have no educaton\n",
        "  - ● What is the most common level of parental education?"
      ]
    },
    {
      "cell_type": "code",
      "execution_count": null,
      "id": "2a2da853-ec56-45fb-b3d7-0bd245e7f64b",
      "metadata": {
        "id": "2a2da853-ec56-45fb-b3d7-0bd245e7f64b",
        "outputId": "c1a5c09a-a74a-4869-baff-d13dce6954e2"
      },
      "outputs": [
        {
          "data": {
            "text/html": [
              "<div>\n",
              "<style scoped>\n",
              "    .dataframe tbody tr th:only-of-type {\n",
              "        vertical-align: middle;\n",
              "    }\n",
              "\n",
              "    .dataframe tbody tr th {\n",
              "        vertical-align: top;\n",
              "    }\n",
              "\n",
              "    .dataframe thead th {\n",
              "        text-align: right;\n",
              "    }\n",
              "</style>\n",
              "<table border=\"1\" class=\"dataframe\">\n",
              "  <thead>\n",
              "    <tr style=\"text-align: right;\">\n",
              "      <th></th>\n",
              "      <th>ParentalEducation</th>\n",
              "      <th>number</th>\n",
              "    </tr>\n",
              "  </thead>\n",
              "  <tbody>\n",
              "    <tr>\n",
              "      <th>0</th>\n",
              "      <td>Bachelor's</td>\n",
              "      <td>234</td>\n",
              "    </tr>\n",
              "    <tr>\n",
              "      <th>1</th>\n",
              "      <td>High School</td>\n",
              "      <td>458</td>\n",
              "    </tr>\n",
              "    <tr>\n",
              "      <th>2</th>\n",
              "      <td>Higher</td>\n",
              "      <td>77</td>\n",
              "    </tr>\n",
              "    <tr>\n",
              "      <th>3</th>\n",
              "      <td>No Education</td>\n",
              "      <td>154</td>\n",
              "    </tr>\n",
              "    <tr>\n",
              "      <th>4</th>\n",
              "      <td>Some College</td>\n",
              "      <td>577</td>\n",
              "    </tr>\n",
              "  </tbody>\n",
              "</table>\n",
              "</div>"
            ],
            "text/plain": [
              "  ParentalEducation  number\n",
              "0        Bachelor's     234\n",
              "1       High School     458\n",
              "2            Higher      77\n",
              "3      No Education     154\n",
              "4      Some College     577"
            ]
          },
          "execution_count": 217,
          "metadata": {},
          "output_type": "execute_result"
        }
      ],
      "source": [
        "fun2 = {'ParentalEducation':\"count\"}\n",
        "groupbyEducation = student_list.groupby('ParentalEducation').agg(fun2)\n",
        "groupbyEducation.rename( columns = {'ParentalEducation':'number'}, inplace = True)\n",
        "groupbyEducation = groupbyEducation.reset_index()\n",
        "groupbyEducation"
      ]
    },
    {
      "cell_type": "markdown",
      "id": "bdd2de10-a356-4ba0-9906-318c7d18343a",
      "metadata": {
        "id": "bdd2de10-a356-4ba0-9906-318c7d18343a"
      },
      "source": [
        "- 77 parents have the highest education level\n",
        "- 154 parents have no education\n",
        "- The most common level of parental education is 'some college'"
      ]
    },
    {
      "cell_type": "markdown",
      "id": "290af536-4dd5-4740-90b6-e60947f28bb3",
      "metadata": {
        "id": "290af536-4dd5-4740-90b6-e60947f28bb3"
      },
      "source": [
        "2. Replace the values in the 'ParentalEducation' column according to the following\n",
        "table:"
      ]
    },
    {
      "cell_type": "code",
      "execution_count": null,
      "id": "95f35283-7dc3-4b74-8575-572c665f31b0",
      "metadata": {
        "id": "95f35283-7dc3-4b74-8575-572c665f31b0",
        "outputId": "b48b0511-b6bc-4ba1-e9ec-41042ef0e355"
      },
      "outputs": [
        {
          "data": {
            "text/html": [
              "<div>\n",
              "<style scoped>\n",
              "    .dataframe tbody tr th:only-of-type {\n",
              "        vertical-align: middle;\n",
              "    }\n",
              "\n",
              "    .dataframe tbody tr th {\n",
              "        vertical-align: top;\n",
              "    }\n",
              "\n",
              "    .dataframe thead th {\n",
              "        text-align: right;\n",
              "    }\n",
              "</style>\n",
              "<table border=\"1\" class=\"dataframe\">\n",
              "  <thead>\n",
              "    <tr style=\"text-align: right;\">\n",
              "      <th></th>\n",
              "      <th>StudentID</th>\n",
              "      <th>Age</th>\n",
              "      <th>ParentalEducation</th>\n",
              "      <th>StudyTimeWeekly</th>\n",
              "      <th>Absences</th>\n",
              "      <th>Tutoring</th>\n",
              "      <th>ParentalSupport</th>\n",
              "      <th>Extracurricular</th>\n",
              "      <th>Sports</th>\n",
              "      <th>Music</th>\n",
              "      <th>Volunteering</th>\n",
              "      <th>GPA</th>\n",
              "      <th>GradeClass</th>\n",
              "    </tr>\n",
              "  </thead>\n",
              "  <tbody>\n",
              "    <tr>\n",
              "      <th>0</th>\n",
              "      <td>1640</td>\n",
              "      <td>18</td>\n",
              "      <td>2</td>\n",
              "      <td>10.318918</td>\n",
              "      <td>5</td>\n",
              "      <td>No</td>\n",
              "      <td>2</td>\n",
              "      <td>No</td>\n",
              "      <td>Yes</td>\n",
              "      <td>No</td>\n",
              "      <td>No</td>\n",
              "      <td>2.655994</td>\n",
              "      <td>C</td>\n",
              "    </tr>\n",
              "    <tr>\n",
              "      <th>1</th>\n",
              "      <td>2939</td>\n",
              "      <td>16</td>\n",
              "      <td>3</td>\n",
              "      <td>6.517803</td>\n",
              "      <td>2</td>\n",
              "      <td>Yes</td>\n",
              "      <td>2</td>\n",
              "      <td>No</td>\n",
              "      <td>Yes</td>\n",
              "      <td>No</td>\n",
              "      <td>No</td>\n",
              "      <td>3.474562</td>\n",
              "      <td>B</td>\n",
              "    </tr>\n",
              "    <tr>\n",
              "      <th>2</th>\n",
              "      <td>2877</td>\n",
              "      <td>15</td>\n",
              "      <td>2</td>\n",
              "      <td>0.815700</td>\n",
              "      <td>1</td>\n",
              "      <td>No</td>\n",
              "      <td>1</td>\n",
              "      <td>No</td>\n",
              "      <td>No</td>\n",
              "      <td>Yes</td>\n",
              "      <td>Yes</td>\n",
              "      <td>2.806878</td>\n",
              "      <td>C</td>\n",
              "    </tr>\n",
              "    <tr>\n",
              "      <th>3</th>\n",
              "      <td>1628</td>\n",
              "      <td>16</td>\n",
              "      <td>1</td>\n",
              "      <td>6.304335</td>\n",
              "      <td>8</td>\n",
              "      <td>No</td>\n",
              "      <td>3</td>\n",
              "      <td>No</td>\n",
              "      <td>No</td>\n",
              "      <td>No</td>\n",
              "      <td>No</td>\n",
              "      <td>2.150546</td>\n",
              "      <td>D</td>\n",
              "    </tr>\n",
              "    <tr>\n",
              "      <th>4</th>\n",
              "      <td>2052</td>\n",
              "      <td>15</td>\n",
              "      <td>2</td>\n",
              "      <td>2.516047</td>\n",
              "      <td>14</td>\n",
              "      <td>Yes</td>\n",
              "      <td>3</td>\n",
              "      <td>Yes</td>\n",
              "      <td>No</td>\n",
              "      <td>No</td>\n",
              "      <td>No</td>\n",
              "      <td>2.253871</td>\n",
              "      <td>D</td>\n",
              "    </tr>\n",
              "    <tr>\n",
              "      <th>...</th>\n",
              "      <td>...</td>\n",
              "      <td>...</td>\n",
              "      <td>...</td>\n",
              "      <td>...</td>\n",
              "      <td>...</td>\n",
              "      <td>...</td>\n",
              "      <td>...</td>\n",
              "      <td>...</td>\n",
              "      <td>...</td>\n",
              "      <td>...</td>\n",
              "      <td>...</td>\n",
              "      <td>...</td>\n",
              "      <td>...</td>\n",
              "    </tr>\n",
              "    <tr>\n",
              "      <th>1495</th>\n",
              "      <td>1944</td>\n",
              "      <td>15</td>\n",
              "      <td>0</td>\n",
              "      <td>10.596678</td>\n",
              "      <td>12</td>\n",
              "      <td>No</td>\n",
              "      <td>1</td>\n",
              "      <td>No</td>\n",
              "      <td>No</td>\n",
              "      <td>No</td>\n",
              "      <td>Yes</td>\n",
              "      <td>1.621012</td>\n",
              "      <td>F</td>\n",
              "    </tr>\n",
              "    <tr>\n",
              "      <th>1496</th>\n",
              "      <td>1566</td>\n",
              "      <td>16</td>\n",
              "      <td>2</td>\n",
              "      <td>3.278634</td>\n",
              "      <td>4</td>\n",
              "      <td>Yes</td>\n",
              "      <td>4</td>\n",
              "      <td>Yes</td>\n",
              "      <td>No</td>\n",
              "      <td>No</td>\n",
              "      <td>No</td>\n",
              "      <td>3.244882</td>\n",
              "      <td>B</td>\n",
              "    </tr>\n",
              "    <tr>\n",
              "      <th>1497</th>\n",
              "      <td>3268</td>\n",
              "      <td>18</td>\n",
              "      <td>2</td>\n",
              "      <td>7.598010</td>\n",
              "      <td>0</td>\n",
              "      <td>Yes</td>\n",
              "      <td>3</td>\n",
              "      <td>No</td>\n",
              "      <td>No</td>\n",
              "      <td>No</td>\n",
              "      <td>No</td>\n",
              "      <td>3.040730</td>\n",
              "      <td>F</td>\n",
              "    </tr>\n",
              "    <tr>\n",
              "      <th>1498</th>\n",
              "      <td>3237</td>\n",
              "      <td>17</td>\n",
              "      <td>2</td>\n",
              "      <td>15.078754</td>\n",
              "      <td>24</td>\n",
              "      <td>No</td>\n",
              "      <td>4</td>\n",
              "      <td>No</td>\n",
              "      <td>No</td>\n",
              "      <td>Yes</td>\n",
              "      <td>No</td>\n",
              "      <td>1.245091</td>\n",
              "      <td>F</td>\n",
              "    </tr>\n",
              "    <tr>\n",
              "      <th>1499</th>\n",
              "      <td>1149</td>\n",
              "      <td>15</td>\n",
              "      <td>4</td>\n",
              "      <td>1.360205</td>\n",
              "      <td>22</td>\n",
              "      <td>No</td>\n",
              "      <td>1</td>\n",
              "      <td>Yes</td>\n",
              "      <td>Yes</td>\n",
              "      <td>No</td>\n",
              "      <td>Yes</td>\n",
              "      <td>1.007226</td>\n",
              "      <td>F</td>\n",
              "    </tr>\n",
              "  </tbody>\n",
              "</table>\n",
              "<p>1500 rows × 13 columns</p>\n",
              "</div>"
            ],
            "text/plain": [
              "      StudentID  Age  ParentalEducation  StudyTimeWeekly  Absences Tutoring  \\\n",
              "0          1640   18                  2        10.318918         5       No   \n",
              "1          2939   16                  3         6.517803         2      Yes   \n",
              "2          2877   15                  2         0.815700         1       No   \n",
              "3          1628   16                  1         6.304335         8       No   \n",
              "4          2052   15                  2         2.516047        14      Yes   \n",
              "...         ...  ...                ...              ...       ...      ...   \n",
              "1495       1944   15                  0        10.596678        12       No   \n",
              "1496       1566   16                  2         3.278634         4      Yes   \n",
              "1497       3268   18                  2         7.598010         0      Yes   \n",
              "1498       3237   17                  2        15.078754        24       No   \n",
              "1499       1149   15                  4         1.360205        22       No   \n",
              "\n",
              "      ParentalSupport Extracurricular Sports Music Volunteering       GPA  \\\n",
              "0                   2              No    Yes    No           No  2.655994   \n",
              "1                   2              No    Yes    No           No  3.474562   \n",
              "2                   1              No     No   Yes          Yes  2.806878   \n",
              "3                   3              No     No    No           No  2.150546   \n",
              "4                   3             Yes     No    No           No  2.253871   \n",
              "...               ...             ...    ...   ...          ...       ...   \n",
              "1495                1              No     No    No          Yes  1.621012   \n",
              "1496                4             Yes     No    No           No  3.244882   \n",
              "1497                3              No     No    No           No  3.040730   \n",
              "1498                4              No     No   Yes           No  1.245091   \n",
              "1499                1             Yes    Yes    No          Yes  1.007226   \n",
              "\n",
              "     GradeClass  \n",
              "0             C  \n",
              "1             B  \n",
              "2             C  \n",
              "3             D  \n",
              "4             D  \n",
              "...         ...  \n",
              "1495          F  \n",
              "1496          B  \n",
              "1497          F  \n",
              "1498          F  \n",
              "1499          F  \n",
              "\n",
              "[1500 rows x 13 columns]"
            ]
          },
          "execution_count": 238,
          "metadata": {},
          "output_type": "execute_result"
        }
      ],
      "source": [
        "replace_frame = {'No Education':0,'High School':1,'Some College':2,\"Bachelor's\":3,'Higher':4}\n",
        "student_list['ParentalEducation'] = student_list['ParentalEducation'].replace(replace_frame)\n",
        "student_list.infer_objects(copy=False)"
      ]
    },
    {
      "cell_type": "markdown",
      "id": "2b455be5-cc00-4c24-9e10-759c464d2300",
      "metadata": {
        "id": "2b455be5-cc00-4c24-9e10-759c464d2300"
      },
      "source": [
        "3. Use a boxplot to visualise the distribution of GPA for each level of ParentalEducation.\n",
        "Looking at the boxplot, what can you say about the relationship between parental\n",
        "education and the students’ GPA?"
      ]
    },
    {
      "cell_type": "code",
      "execution_count": null,
      "id": "d6dfa286-5ef7-404f-a728-fd2d802b8ec2",
      "metadata": {
        "id": "d6dfa286-5ef7-404f-a728-fd2d802b8ec2",
        "outputId": "327f9c6a-137f-46f7-a8b0-07a6841485ea"
      },
      "outputs": [
        {
          "data": {
            "image/png": "[encoded data removed]",
            "text/plain": [
              "<Figure size 640x480 with 1 Axes>"
            ]
          },
          "metadata": {},
          "output_type": "display_data"
        }
      ],
      "source": [
        "student_list.boxplot(column = 'GPA', by = 'ParentalEducation')\n",
        "plt.title(\"Parental Education against GPA\")\n",
        "plt.xlabel('Parental Education')\n",
        "plt.ylabel('GPA')\n",
        "plt.show()"
      ]
    },
    {
      "cell_type": "markdown",
      "id": "c595d153-a4db-4c60-b2b5-88f0d0fb28c6",
      "metadata": {
        "id": "c595d153-a4db-4c60-b2b5-88f0d0fb28c6"
      },
      "source": [
        "- Based on hypothesis, parents with higher education level should have children with better GPA\n",
        "- as it is assumed that parents from higher education level find better jobs and can provide better conditions to their children in many aspects including education\n",
        "- However, based on the box plot, the GPA distribution of students across all parental education levels have roughly the same distribution (spread) and median\n",
        "- Instead, parents with Bachelor's and Higher education shows a slight decline in student's GPA in terms of median and range.\n",
        "- This may be because these parents are too busy to monitor student's academics, thus leading to a decline in GPA\n",
        "- This shows that the parental education has no obvious relation with the student's GPA"
      ]
    },
    {
      "cell_type": "markdown",
      "id": "8424bcb5-b234-4b81-803e-b328bf5d434d",
      "metadata": {
        "id": "8424bcb5-b234-4b81-803e-b328bf5d434d"
      },
      "source": [
        "### A3. GPA distribution and Correlation Analysis (1.5 marks)"
      ]
    },
    {
      "cell_type": "markdown",
      "id": "a3bd4cf4-0ed1-4a71-87d2-e2a31bd2296e",
      "metadata": {
        "id": "a3bd4cf4-0ed1-4a71-87d2-e2a31bd2296e"
      },
      "source": [
        "1. Create a histogram to visualise the distribution of GPA. Summarise your\n",
        "observations."
      ]
    },
    {
      "cell_type": "code",
      "execution_count": null,
      "id": "0d1d250d-9e81-4a28-bf82-c8821f9657f1",
      "metadata": {
        "id": "0d1d250d-9e81-4a28-bf82-c8821f9657f1",
        "outputId": "cf00c601-641e-443e-813a-b99031ac2fc0"
      },
      "outputs": [
        {
          "data": {
            "image/png": "[encoded data removed]",
            "text/plain": [
              "<Figure size 640x480 with 1 Axes>"
            ]
          },
          "metadata": {},
          "output_type": "display_data"
        }
      ],
      "source": [
        "student_list.GPA.hist(bins = 20,edgecolor='black')\n",
        "plt.ylim(0,120)\n",
        "plt.xlabel('GPA')\n",
        "plt.ylabel('Number of Students')\n",
        "plt.title(\"Students' GPA distribution\")\n",
        "plt.grid(True)"
      ]
    },
    {
      "cell_type": "markdown",
      "id": "c6ac8d03-50de-4067-b22e-74b28b49ecfa",
      "metadata": {
        "id": "c6ac8d03-50de-4067-b22e-74b28b49ecfa"
      },
      "source": [
        "- Overall, the distribution of student's GPA is roughly bell-shaped\n",
        "- The peak of the histogram shows that most students get a GPA between the range 1.5 and 3.0\n",
        "- There are less students getting GPA below 1.0 and above 3.5"
      ]
    },
    {
      "cell_type": "markdown",
      "id": "4e9a54db-7722-4e52-96d4-a5e2693220f1",
      "metadata": {
        "id": "4e9a54db-7722-4e52-96d4-a5e2693220f1"
      },
      "source": [
        "2. Does a higher weekly study time correlate with better GPA? Use a scatter plot to\n",
        "visualise this relationship and calculate the correlation coefficient."
      ]
    },
    {
      "cell_type": "code",
      "execution_count": null,
      "id": "0ca4bf2f-c846-4683-a209-de3d2ba49c90",
      "metadata": {
        "id": "0ca4bf2f-c846-4683-a209-de3d2ba49c90",
        "outputId": "7265ec52-b9aa-4287-b022-702ed14e87ff"
      },
      "outputs": [
        {
          "data": {
            "image/png": "[encoded data removed]",
            "text/plain": [
              "<Figure size 640x480 with 1 Axes>"
            ]
          },
          "metadata": {},
          "output_type": "display_data"
        }
      ],
      "source": [
        "plt.scatter(student_list['StudyTimeWeekly'],student_list['GPA'])\n",
        "plt.xlabel('Study Time Weekly')\n",
        "plt.ylabel('GPA')\n",
        "plt.title('GPA against Study Time Weekly')\n",
        "plt.show()"
      ]
    },
    {
      "cell_type": "code",
      "execution_count": null,
      "id": "2b7fdb82-9281-4b08-91ea-a8d8ffa8a40e",
      "metadata": {
        "id": "2b7fdb82-9281-4b08-91ea-a8d8ffa8a40e",
        "outputId": "d6b2f067-c074-4743-ce9b-1714ba302cd9"
      },
      "outputs": [
        {
          "data": {
            "text/plain": [
              "0.19049313037112514"
            ]
          },
          "execution_count": 222,
          "metadata": {},
          "output_type": "execute_result"
        }
      ],
      "source": [
        "Correlation_coefficient = student_list['StudyTimeWeekly'].corr(student_list['GPA'])\n",
        "Correlation_coefficient"
      ]
    },
    {
      "cell_type": "markdown",
      "id": "43f4d332-1701-4325-aff5-51622a56de86",
      "metadata": {
        "id": "43f4d332-1701-4325-aff5-51622a56de86"
      },
      "source": [
        "- From the scatter plot, although there is a slight trend that when student's weekly study time increases, their GPA increases, it is very weak\n",
        "- There is no clear pattern or trend that indicates a strong relationship between weekly study time and GPA the scatter plot is quite spread out\n",
        "- The correlation coefficient between weekly study time and GPA, which is 0.19 shows a weak positive relationship."
      ]
    },
    {
      "cell_type": "markdown",
      "id": "72a8d2a4-1026-4aa8-8634-86118f2e77de",
      "metadata": {
        "id": "72a8d2a4-1026-4aa8-8634-86118f2e77de"
      },
      "source": [
        "3. How about any correlation between absences and GPA? Use a scatter plot to\n",
        "visualise this relationship and calculate the correlation coefficient."
      ]
    },
    {
      "cell_type": "code",
      "execution_count": null,
      "id": "690f0858-bd0c-4ed4-8a3e-9a847907c99d",
      "metadata": {
        "id": "690f0858-bd0c-4ed4-8a3e-9a847907c99d",
        "outputId": "704034a2-b21e-4767-e38f-819b2d82ad3b"
      },
      "outputs": [
        {
          "data": {
            "image/png": "[encoded data removed]",
            "text/plain": [
              "<Figure size 640x480 with 1 Axes>"
            ]
          },
          "metadata": {},
          "output_type": "display_data"
        }
      ],
      "source": [
        "plt.scatter(student_list['Absences'],student_list['GPA'])\n",
        "plt.xlabel('Absences')\n",
        "plt.ylabel('GPA')\n",
        "plt.title('GPA against Absences')\n",
        "plt.show()"
      ]
    },
    {
      "cell_type": "code",
      "execution_count": null,
      "id": "55d55ef5-d6fb-42cf-aaef-d0d022431936",
      "metadata": {
        "id": "55d55ef5-d6fb-42cf-aaef-d0d022431936",
        "outputId": "08e0377b-287d-4f83-fc2b-2df5e1ddffce"
      },
      "outputs": [
        {
          "data": {
            "text/plain": [
              "-0.9194876943290949"
            ]
          },
          "execution_count": 224,
          "metadata": {},
          "output_type": "execute_result"
        }
      ],
      "source": [
        "correlation = student_list['Absences'].corr(student_list['GPA'])\n",
        "correlation"
      ]
    },
    {
      "cell_type": "markdown",
      "id": "69034815-bc4b-41c9-890c-9c02f02a30ff",
      "metadata": {
        "id": "69034815-bc4b-41c9-890c-9c02f02a30ff"
      },
      "source": [
        "- based on the scatter plot, the pattern ot trend shows an obvious decrease in GPA as the number of absences increases\n",
        "- The correlation coefficient between the number of absences and GPA is -0.9195 which is strong negative correlation"
      ]
    },
    {
      "cell_type": "markdown",
      "id": "a203649f-6329-4e31-9af2-a6367fe2fb95",
      "metadata": {
        "id": "a203649f-6329-4e31-9af2-a6367fe2fb95"
      },
      "source": [
        "### A4. Extracurricular Activities (1.5 marks)"
      ]
    },
    {
      "cell_type": "markdown",
      "id": "42c45832-3f95-469f-b687-be1a2e7df1b8",
      "metadata": {
        "id": "42c45832-3f95-469f-b687-be1a2e7df1b8"
      },
      "source": [
        "1. Select a list of students who are involved in Sports, Music, Volunteering and\n",
        "Extracurricular activities. How many students are there? Assume this is called group\n",
        "A."
      ]
    },
    {
      "cell_type": "code",
      "execution_count": null,
      "id": "c5563312-c92d-4c1e-9bcd-4ff589ffb7f8",
      "metadata": {
        "id": "c5563312-c92d-4c1e-9bcd-4ff589ffb7f8",
        "outputId": "52a8fb50-5f43-4bce-f929-ae56cdfe7806"
      },
      "outputs": [
        {
          "data": {
            "text/html": [
              "<div>\n",
              "<style scoped>\n",
              "    .dataframe tbody tr th:only-of-type {\n",
              "        vertical-align: middle;\n",
              "    }\n",
              "\n",
              "    .dataframe tbody tr th {\n",
              "        vertical-align: top;\n",
              "    }\n",
              "\n",
              "    .dataframe thead th {\n",
              "        text-align: right;\n",
              "    }\n",
              "</style>\n",
              "<table border=\"1\" class=\"dataframe\">\n",
              "  <thead>\n",
              "    <tr style=\"text-align: right;\">\n",
              "      <th></th>\n",
              "      <th>StudentID</th>\n",
              "      <th>Age</th>\n",
              "      <th>ParentalEducation</th>\n",
              "      <th>StudyTimeWeekly</th>\n",
              "      <th>Absences</th>\n",
              "      <th>Tutoring</th>\n",
              "      <th>ParentalSupport</th>\n",
              "      <th>Extracurricular</th>\n",
              "      <th>Sports</th>\n",
              "      <th>Music</th>\n",
              "      <th>Volunteering</th>\n",
              "      <th>GPA</th>\n",
              "      <th>GradeClass</th>\n",
              "    </tr>\n",
              "  </thead>\n",
              "  <tbody>\n",
              "    <tr>\n",
              "      <th>0</th>\n",
              "      <td>1640</td>\n",
              "      <td>18</td>\n",
              "      <td>2</td>\n",
              "      <td>10.318918</td>\n",
              "      <td>5</td>\n",
              "      <td>No</td>\n",
              "      <td>2</td>\n",
              "      <td>No</td>\n",
              "      <td>Yes</td>\n",
              "      <td>No</td>\n",
              "      <td>No</td>\n",
              "      <td>2.655994</td>\n",
              "      <td>C</td>\n",
              "    </tr>\n",
              "    <tr>\n",
              "      <th>1</th>\n",
              "      <td>2939</td>\n",
              "      <td>16</td>\n",
              "      <td>3</td>\n",
              "      <td>6.517803</td>\n",
              "      <td>2</td>\n",
              "      <td>Yes</td>\n",
              "      <td>2</td>\n",
              "      <td>No</td>\n",
              "      <td>Yes</td>\n",
              "      <td>No</td>\n",
              "      <td>No</td>\n",
              "      <td>3.474562</td>\n",
              "      <td>B</td>\n",
              "    </tr>\n",
              "    <tr>\n",
              "      <th>2</th>\n",
              "      <td>2877</td>\n",
              "      <td>15</td>\n",
              "      <td>2</td>\n",
              "      <td>0.815700</td>\n",
              "      <td>1</td>\n",
              "      <td>No</td>\n",
              "      <td>1</td>\n",
              "      <td>No</td>\n",
              "      <td>No</td>\n",
              "      <td>Yes</td>\n",
              "      <td>Yes</td>\n",
              "      <td>2.806878</td>\n",
              "      <td>C</td>\n",
              "    </tr>\n",
              "    <tr>\n",
              "      <th>3</th>\n",
              "      <td>1628</td>\n",
              "      <td>16</td>\n",
              "      <td>1</td>\n",
              "      <td>6.304335</td>\n",
              "      <td>8</td>\n",
              "      <td>No</td>\n",
              "      <td>3</td>\n",
              "      <td>No</td>\n",
              "      <td>No</td>\n",
              "      <td>No</td>\n",
              "      <td>No</td>\n",
              "      <td>2.150546</td>\n",
              "      <td>D</td>\n",
              "    </tr>\n",
              "    <tr>\n",
              "      <th>4</th>\n",
              "      <td>2052</td>\n",
              "      <td>15</td>\n",
              "      <td>2</td>\n",
              "      <td>2.516047</td>\n",
              "      <td>14</td>\n",
              "      <td>Yes</td>\n",
              "      <td>3</td>\n",
              "      <td>Yes</td>\n",
              "      <td>No</td>\n",
              "      <td>No</td>\n",
              "      <td>No</td>\n",
              "      <td>2.253871</td>\n",
              "      <td>D</td>\n",
              "    </tr>\n",
              "  </tbody>\n",
              "</table>\n",
              "</div>"
            ],
            "text/plain": [
              "   StudentID  Age  ParentalEducation  StudyTimeWeekly  Absences Tutoring  \\\n",
              "0       1640   18                  2        10.318918         5       No   \n",
              "1       2939   16                  3         6.517803         2      Yes   \n",
              "2       2877   15                  2         0.815700         1       No   \n",
              "3       1628   16                  1         6.304335         8       No   \n",
              "4       2052   15                  2         2.516047        14      Yes   \n",
              "\n",
              "   ParentalSupport Extracurricular Sports Music Volunteering       GPA  \\\n",
              "0                2              No    Yes    No           No  2.655994   \n",
              "1                2              No    Yes    No           No  3.474562   \n",
              "2                1              No     No   Yes          Yes  2.806878   \n",
              "3                3              No     No    No           No  2.150546   \n",
              "4                3             Yes     No    No           No  2.253871   \n",
              "\n",
              "  GradeClass  \n",
              "0          C  \n",
              "1          B  \n",
              "2          C  \n",
              "3          D  \n",
              "4          D  "
            ]
          },
          "execution_count": 225,
          "metadata": {},
          "output_type": "execute_result"
        }
      ],
      "source": [
        "student_list.head()"
      ]
    },
    {
      "cell_type": "code",
      "execution_count": null,
      "id": "d568bedf-bf34-4671-9943-b3ccb318b155",
      "metadata": {
        "id": "d568bedf-bf34-4671-9943-b3ccb318b155",
        "outputId": "1da8982e-ff75-4571-ccd3-d4700fbe82fb"
      },
      "outputs": [
        {
          "data": {
            "text/plain": [
              "5"
            ]
          },
          "execution_count": 226,
          "metadata": {},
          "output_type": "execute_result"
        }
      ],
      "source": [
        "A = student_list[(student_list.Sports == 'Yes') & (student_list.Music == 'Yes') & (student_list.Extracurricular == 'Yes') & (student_list.Volunteering == 'Yes')]\n",
        "len(A)"
      ]
    },
    {
      "cell_type": "markdown",
      "id": "2bb257f9-a76f-435f-a01c-7d766004c30b",
      "metadata": {
        "id": "2bb257f9-a76f-435f-a01c-7d766004c30b"
      },
      "source": [
        "- There are 5 students in group A"
      ]
    },
    {
      "cell_type": "markdown",
      "id": "e3c8cb09-1229-4a9f-b6dc-a2205be47fde",
      "metadata": {
        "id": "e3c8cb09-1229-4a9f-b6dc-a2205be47fde"
      },
      "source": [
        "2. Now Select students who did not involve in any of the above activities. How many\n",
        "students are there? Assume this is called group B."
      ]
    },
    {
      "cell_type": "code",
      "execution_count": null,
      "id": "33b4196f-29e7-4589-bb73-fe4408a2fa28",
      "metadata": {
        "id": "33b4196f-29e7-4589-bb73-fe4408a2fa28",
        "outputId": "24ce7f54-8eb4-409a-9dbc-2f64a5323b04"
      },
      "outputs": [
        {
          "data": {
            "text/plain": [
              "432"
            ]
          },
          "execution_count": 227,
          "metadata": {},
          "output_type": "execute_result"
        }
      ],
      "source": [
        "B = student_list[(student_list.Sports == 'No') & (student_list.Music == 'No') & (student_list.Extracurricular == 'No') & (student_list.Volunteering == 'No')]\n",
        "len(B)"
      ]
    },
    {
      "cell_type": "markdown",
      "id": "5fe0d9c2-7622-4b6c-b5ea-c0ed04eec2c9",
      "metadata": {
        "id": "5fe0d9c2-7622-4b6c-b5ea-c0ed04eec2c9"
      },
      "source": [
        "- There are 432 students in group B"
      ]
    },
    {
      "cell_type": "markdown",
      "id": "c3433780-3008-4a03-b2af-218f1fe897fa",
      "metadata": {
        "id": "c3433780-3008-4a03-b2af-218f1fe897fa"
      },
      "source": [
        "3. Compare the mean GPA of students in group A versus group B. What can you say?"
      ]
    },
    {
      "cell_type": "code",
      "execution_count": null,
      "id": "3df644c9-5a82-4a5c-9c02-b255fd7a41c8",
      "metadata": {
        "id": "3df644c9-5a82-4a5c-9c02-b255fd7a41c8",
        "outputId": "bccd1a86-bfdf-46b8-c8b2-358926edfdf3"
      },
      "outputs": [
        {
          "data": {
            "text/plain": [
              "2.4475262217999996"
            ]
          },
          "execution_count": 228,
          "metadata": {},
          "output_type": "execute_result"
        }
      ],
      "source": [
        "meanGPA_A = A['GPA'].mean()\n",
        "meanGPA_A"
      ]
    },
    {
      "cell_type": "code",
      "execution_count": null,
      "id": "8efefff6-b3df-45f7-b4c7-9b381f3f6128",
      "metadata": {
        "id": "8efefff6-b3df-45f7-b4c7-9b381f3f6128",
        "outputId": "c58aa608-5bb5-48ed-84e0-ecad2fd0f95f"
      },
      "outputs": [
        {
          "data": {
            "text/plain": [
              "1.7312226005532407"
            ]
          },
          "execution_count": 229,
          "metadata": {},
          "output_type": "execute_result"
        }
      ],
      "source": [
        "meanGPA_B = B['GPA'].mean()\n",
        "meanGPA_B"
      ]
    },
    {
      "cell_type": "markdown",
      "id": "bb391dad-db7d-4a8c-86bf-ea4ba5586478",
      "metadata": {
        "id": "bb391dad-db7d-4a8c-86bf-ea4ba5586478"
      },
      "source": [
        "- The mean GPA of group A is 2.448\n",
        "- The mean GPA of group B is 1.731\n",
        "- The initial hypothesis made of the relationship between extracurricular activities and GPA is that students who are generally active in activities outside of their academics will have an overall lower GPA compared to those who are inactive.\n",
        "- This is because they would have lesser time to do revision and study\n",
        "- However, the mean GPA between group A and B shows that students who are not active in sports, music, extracurricular and volunteering activities are generally weak in their study grades (GPA) too\n",
        "- while students who are active in all the activities mentioned generally do well in their study grades (GPA)\n",
        "- This might be because students who participate in extracurricular activities generally have better time management skills"
      ]
    },
    {
      "cell_type": "markdown",
      "id": "024061c4-7021-4c70-b918-6ac6df29411c",
      "metadata": {
        "id": "024061c4-7021-4c70-b918-6ac6df29411c"
      },
      "source": [
        "### A5. Exploring Parental Support and Tutoring (1.5 marks)"
      ]
    },
    {
      "cell_type": "code",
      "execution_count": null,
      "id": "3e0c156e-eba3-416a-a982-b8cb392f5fda",
      "metadata": {
        "id": "3e0c156e-eba3-416a-a982-b8cb392f5fda",
        "outputId": "2bf9d118-5373-4663-bb1d-6ada173d465d"
      },
      "outputs": [
        {
          "data": {
            "text/html": [
              "<div>\n",
              "<style scoped>\n",
              "    .dataframe tbody tr th:only-of-type {\n",
              "        vertical-align: middle;\n",
              "    }\n",
              "\n",
              "    .dataframe tbody tr th {\n",
              "        vertical-align: top;\n",
              "    }\n",
              "\n",
              "    .dataframe thead th {\n",
              "        text-align: right;\n",
              "    }\n",
              "</style>\n",
              "<table border=\"1\" class=\"dataframe\">\n",
              "  <thead>\n",
              "    <tr style=\"text-align: right;\">\n",
              "      <th></th>\n",
              "      <th>StudentID</th>\n",
              "      <th>Age</th>\n",
              "      <th>ParentalEducation</th>\n",
              "      <th>StudyTimeWeekly</th>\n",
              "      <th>Absences</th>\n",
              "      <th>Tutoring</th>\n",
              "      <th>ParentalSupport</th>\n",
              "      <th>Extracurricular</th>\n",
              "      <th>Sports</th>\n",
              "      <th>Music</th>\n",
              "      <th>Volunteering</th>\n",
              "      <th>GPA</th>\n",
              "      <th>GradeClass</th>\n",
              "    </tr>\n",
              "  </thead>\n",
              "  <tbody>\n",
              "    <tr>\n",
              "      <th>0</th>\n",
              "      <td>1640</td>\n",
              "      <td>18</td>\n",
              "      <td>2</td>\n",
              "      <td>10.318918</td>\n",
              "      <td>5</td>\n",
              "      <td>No</td>\n",
              "      <td>2</td>\n",
              "      <td>No</td>\n",
              "      <td>Yes</td>\n",
              "      <td>No</td>\n",
              "      <td>No</td>\n",
              "      <td>2.655994</td>\n",
              "      <td>C</td>\n",
              "    </tr>\n",
              "    <tr>\n",
              "      <th>1</th>\n",
              "      <td>2939</td>\n",
              "      <td>16</td>\n",
              "      <td>3</td>\n",
              "      <td>6.517803</td>\n",
              "      <td>2</td>\n",
              "      <td>Yes</td>\n",
              "      <td>2</td>\n",
              "      <td>No</td>\n",
              "      <td>Yes</td>\n",
              "      <td>No</td>\n",
              "      <td>No</td>\n",
              "      <td>3.474562</td>\n",
              "      <td>B</td>\n",
              "    </tr>\n",
              "    <tr>\n",
              "      <th>2</th>\n",
              "      <td>2877</td>\n",
              "      <td>15</td>\n",
              "      <td>2</td>\n",
              "      <td>0.815700</td>\n",
              "      <td>1</td>\n",
              "      <td>No</td>\n",
              "      <td>1</td>\n",
              "      <td>No</td>\n",
              "      <td>No</td>\n",
              "      <td>Yes</td>\n",
              "      <td>Yes</td>\n",
              "      <td>2.806878</td>\n",
              "      <td>C</td>\n",
              "    </tr>\n",
              "    <tr>\n",
              "      <th>3</th>\n",
              "      <td>1628</td>\n",
              "      <td>16</td>\n",
              "      <td>1</td>\n",
              "      <td>6.304335</td>\n",
              "      <td>8</td>\n",
              "      <td>No</td>\n",
              "      <td>3</td>\n",
              "      <td>No</td>\n",
              "      <td>No</td>\n",
              "      <td>No</td>\n",
              "      <td>No</td>\n",
              "      <td>2.150546</td>\n",
              "      <td>D</td>\n",
              "    </tr>\n",
              "    <tr>\n",
              "      <th>4</th>\n",
              "      <td>2052</td>\n",
              "      <td>15</td>\n",
              "      <td>2</td>\n",
              "      <td>2.516047</td>\n",
              "      <td>14</td>\n",
              "      <td>Yes</td>\n",
              "      <td>3</td>\n",
              "      <td>Yes</td>\n",
              "      <td>No</td>\n",
              "      <td>No</td>\n",
              "      <td>No</td>\n",
              "      <td>2.253871</td>\n",
              "      <td>D</td>\n",
              "    </tr>\n",
              "  </tbody>\n",
              "</table>\n",
              "</div>"
            ],
            "text/plain": [
              "   StudentID  Age  ParentalEducation  StudyTimeWeekly  Absences Tutoring  \\\n",
              "0       1640   18                  2        10.318918         5       No   \n",
              "1       2939   16                  3         6.517803         2      Yes   \n",
              "2       2877   15                  2         0.815700         1       No   \n",
              "3       1628   16                  1         6.304335         8       No   \n",
              "4       2052   15                  2         2.516047        14      Yes   \n",
              "\n",
              "   ParentalSupport Extracurricular Sports Music Volunteering       GPA  \\\n",
              "0                2              No    Yes    No           No  2.655994   \n",
              "1                2              No    Yes    No           No  3.474562   \n",
              "2                1              No     No   Yes          Yes  2.806878   \n",
              "3                3              No     No    No           No  2.150546   \n",
              "4                3             Yes     No    No           No  2.253871   \n",
              "\n",
              "  GradeClass  \n",
              "0          C  \n",
              "1          B  \n",
              "2          C  \n",
              "3          D  \n",
              "4          D  "
            ]
          },
          "execution_count": 230,
          "metadata": {},
          "output_type": "execute_result"
        }
      ],
      "source": [
        "student_list.head()"
      ]
    },
    {
      "cell_type": "markdown",
      "id": "69b902ba-bb05-43b9-82cf-193964b75ed5",
      "metadata": {
        "id": "69b902ba-bb05-43b9-82cf-193964b75ed5"
      },
      "source": [
        "1. Aggregate the data by ParentalSupport and find the mean and median GPA for each\n",
        "group. Also, find the number of students who are 18 years old in each group."
      ]
    },
    {
      "cell_type": "code",
      "execution_count": null,
      "id": "9f891a08-a0d5-474a-8030-a16868246062",
      "metadata": {
        "id": "9f891a08-a0d5-474a-8030-a16868246062",
        "outputId": "66d14850-89ca-446f-c8d9-8d22b7540cd9"
      },
      "outputs": [
        {
          "data": {
            "text/html": [
              "<div>\n",
              "<style scoped>\n",
              "    .dataframe tbody tr th:only-of-type {\n",
              "        vertical-align: middle;\n",
              "    }\n",
              "\n",
              "    .dataframe tbody tr th {\n",
              "        vertical-align: top;\n",
              "    }\n",
              "\n",
              "    .dataframe thead th {\n",
              "        text-align: right;\n",
              "    }\n",
              "</style>\n",
              "<table border=\"1\" class=\"dataframe\">\n",
              "  <thead>\n",
              "    <tr style=\"text-align: right;\">\n",
              "      <th></th>\n",
              "      <th>ParentalSupport</th>\n",
              "      <th>mean</th>\n",
              "      <th>median</th>\n",
              "    </tr>\n",
              "  </thead>\n",
              "  <tbody>\n",
              "    <tr>\n",
              "      <th>0</th>\n",
              "      <td>0</td>\n",
              "      <td>1.521602</td>\n",
              "      <td>1.471672</td>\n",
              "    </tr>\n",
              "    <tr>\n",
              "      <th>1</th>\n",
              "      <td>1</td>\n",
              "      <td>1.735855</td>\n",
              "      <td>1.740455</td>\n",
              "    </tr>\n",
              "    <tr>\n",
              "      <th>2</th>\n",
              "      <td>2</td>\n",
              "      <td>1.845914</td>\n",
              "      <td>1.817007</td>\n",
              "    </tr>\n",
              "    <tr>\n",
              "      <th>3</th>\n",
              "      <td>3</td>\n",
              "      <td>2.068174</td>\n",
              "      <td>2.070669</td>\n",
              "    </tr>\n",
              "    <tr>\n",
              "      <th>4</th>\n",
              "      <td>4</td>\n",
              "      <td>2.227639</td>\n",
              "      <td>2.215516</td>\n",
              "    </tr>\n",
              "  </tbody>\n",
              "</table>\n",
              "</div>"
            ],
            "text/plain": [
              "   ParentalSupport      mean    median\n",
              "0                0  1.521602  1.471672\n",
              "1                1  1.735855  1.740455\n",
              "2                2  1.845914  1.817007\n",
              "3                3  2.068174  2.070669\n",
              "4                4  2.227639  2.215516"
            ]
          },
          "execution_count": 231,
          "metadata": {},
          "output_type": "execute_result"
        }
      ],
      "source": [
        "fun3 = {'mean','median'}\n",
        "groupbyParentalSupport = student_list.groupby('ParentalSupport')['GPA'].agg(fun3).reset_index()\n",
        "groupbyParentalSupport"
      ]
    },
    {
      "cell_type": "code",
      "execution_count": null,
      "id": "f79e8ba8-86aa-48bf-8fe0-6cfae00413c2",
      "metadata": {
        "id": "f79e8ba8-86aa-48bf-8fe0-6cfae00413c2",
        "outputId": "a052edc5-70a7-46a3-831c-0da66f55049e"
      },
      "outputs": [
        {
          "data": {
            "text/html": [
              "<div>\n",
              "<style scoped>\n",
              "    .dataframe tbody tr th:only-of-type {\n",
              "        vertical-align: middle;\n",
              "    }\n",
              "\n",
              "    .dataframe tbody tr th {\n",
              "        vertical-align: top;\n",
              "    }\n",
              "\n",
              "    .dataframe thead th {\n",
              "        text-align: right;\n",
              "    }\n",
              "</style>\n",
              "<table border=\"1\" class=\"dataframe\">\n",
              "  <thead>\n",
              "    <tr style=\"text-align: right;\">\n",
              "      <th></th>\n",
              "      <th>number of 18 yo</th>\n",
              "    </tr>\n",
              "    <tr>\n",
              "      <th>ParentalSupport</th>\n",
              "      <th></th>\n",
              "    </tr>\n",
              "  </thead>\n",
              "  <tbody>\n",
              "    <tr>\n",
              "      <th>0</th>\n",
              "      <td>33</td>\n",
              "    </tr>\n",
              "    <tr>\n",
              "      <th>1</th>\n",
              "      <td>80</td>\n",
              "    </tr>\n",
              "    <tr>\n",
              "      <th>2</th>\n",
              "      <td>98</td>\n",
              "    </tr>\n",
              "    <tr>\n",
              "      <th>3</th>\n",
              "      <td>116</td>\n",
              "    </tr>\n",
              "    <tr>\n",
              "      <th>4</th>\n",
              "      <td>35</td>\n",
              "    </tr>\n",
              "  </tbody>\n",
              "</table>\n",
              "</div>"
            ],
            "text/plain": [
              "                 number of 18 yo\n",
              "ParentalSupport                 \n",
              "0                             33\n",
              "1                             80\n",
              "2                             98\n",
              "3                            116\n",
              "4                             35"
            ]
          },
          "execution_count": 232,
          "metadata": {},
          "output_type": "execute_result"
        }
      ],
      "source": [
        "filtered_df = student_list[student_list.Age == 18]\n",
        "fun4 = {'Age':'count'}\n",
        "groupbyParentalSupport2 = filtered_df.groupby('ParentalSupport').agg(fun4)\n",
        "groupbyParentalSupport2.rename(columns = {'Age':\"number of 18 yo\"}, inplace = True)\n",
        "groupbyParentalSupport2"
      ]
    },
    {
      "cell_type": "markdown",
      "id": "dbb0c925-ea4a-4ca5-855a-472745e79519",
      "metadata": {
        "id": "dbb0c925-ea4a-4ca5-855a-472745e79519"
      },
      "source": [
        "2. Plot a side by side bar chart to visualise the mean and median GPA in each level of\n",
        "parental support and discuss your observations. Your bar chart should illustrate each\n",
        "level of parental support as below."
      ]
    },
    {
      "cell_type": "markdown",
      "id": "9367a7b0-98a5-4447-b491-3b4af2eb7d9a",
      "metadata": {
        "id": "9367a7b0-98a5-4447-b491-3b4af2eb7d9a"
      },
      "source": [
        "![image.png](attachment:6f076346-a336-4e8d-9efc-2f03c75cb377.png)"
      ]
    },
    {
      "cell_type": "code",
      "execution_count": null,
      "id": "736d1508-c543-41fe-b7ed-321948294314",
      "metadata": {
        "id": "736d1508-c543-41fe-b7ed-321948294314",
        "outputId": "fe0b1f6c-c3b0-4e60-f946-bd540e770a52"
      },
      "outputs": [
        {
          "data": {
            "text/html": [
              "<div>\n",
              "<style scoped>\n",
              "    .dataframe tbody tr th:only-of-type {\n",
              "        vertical-align: middle;\n",
              "    }\n",
              "\n",
              "    .dataframe tbody tr th {\n",
              "        vertical-align: top;\n",
              "    }\n",
              "\n",
              "    .dataframe thead th {\n",
              "        text-align: right;\n",
              "    }\n",
              "</style>\n",
              "<table border=\"1\" class=\"dataframe\">\n",
              "  <thead>\n",
              "    <tr style=\"text-align: right;\">\n",
              "      <th></th>\n",
              "      <th>ParentalSupport</th>\n",
              "      <th>mean</th>\n",
              "      <th>median</th>\n",
              "    </tr>\n",
              "  </thead>\n",
              "  <tbody>\n",
              "    <tr>\n",
              "      <th>0</th>\n",
              "      <td>0</td>\n",
              "      <td>1.521602</td>\n",
              "      <td>1.471672</td>\n",
              "    </tr>\n",
              "    <tr>\n",
              "      <th>1</th>\n",
              "      <td>1</td>\n",
              "      <td>1.735855</td>\n",
              "      <td>1.740455</td>\n",
              "    </tr>\n",
              "    <tr>\n",
              "      <th>2</th>\n",
              "      <td>2</td>\n",
              "      <td>1.845914</td>\n",
              "      <td>1.817007</td>\n",
              "    </tr>\n",
              "    <tr>\n",
              "      <th>3</th>\n",
              "      <td>3</td>\n",
              "      <td>2.068174</td>\n",
              "      <td>2.070669</td>\n",
              "    </tr>\n",
              "    <tr>\n",
              "      <th>4</th>\n",
              "      <td>4</td>\n",
              "      <td>2.227639</td>\n",
              "      <td>2.215516</td>\n",
              "    </tr>\n",
              "  </tbody>\n",
              "</table>\n",
              "</div>"
            ],
            "text/plain": [
              "   ParentalSupport      mean    median\n",
              "0                0  1.521602  1.471672\n",
              "1                1  1.735855  1.740455\n",
              "2                2  1.845914  1.817007\n",
              "3                3  2.068174  2.070669\n",
              "4                4  2.227639  2.215516"
            ]
          },
          "execution_count": 233,
          "metadata": {},
          "output_type": "execute_result"
        }
      ],
      "source": [
        "groupbyParentalSupport = groupbyParentalSupport.reset_index(drop=True)\n",
        "groupbyParentalSupport"
      ]
    },
    {
      "cell_type": "code",
      "execution_count": null,
      "id": "cfd44176-8618-4569-9f39-7fd2d6d95db3",
      "metadata": {
        "id": "cfd44176-8618-4569-9f39-7fd2d6d95db3",
        "outputId": "6953f72c-8fc6-464f-ae5e-31a66aa5a203"
      },
      "outputs": [
        {
          "data": {
            "text/html": [
              "<div>\n",
              "<style scoped>\n",
              "    .dataframe tbody tr th:only-of-type {\n",
              "        vertical-align: middle;\n",
              "    }\n",
              "\n",
              "    .dataframe tbody tr th {\n",
              "        vertical-align: top;\n",
              "    }\n",
              "\n",
              "    .dataframe thead th {\n",
              "        text-align: right;\n",
              "    }\n",
              "</style>\n",
              "<table border=\"1\" class=\"dataframe\">\n",
              "  <thead>\n",
              "    <tr style=\"text-align: right;\">\n",
              "      <th></th>\n",
              "      <th>ParentalSupport</th>\n",
              "      <th>mean</th>\n",
              "      <th>median</th>\n",
              "    </tr>\n",
              "  </thead>\n",
              "  <tbody>\n",
              "    <tr>\n",
              "      <th>0</th>\n",
              "      <td>None</td>\n",
              "      <td>1.521602</td>\n",
              "      <td>1.471672</td>\n",
              "    </tr>\n",
              "    <tr>\n",
              "      <th>1</th>\n",
              "      <td>Low</td>\n",
              "      <td>1.735855</td>\n",
              "      <td>1.740455</td>\n",
              "    </tr>\n",
              "    <tr>\n",
              "      <th>2</th>\n",
              "      <td>Moderate</td>\n",
              "      <td>1.845914</td>\n",
              "      <td>1.817007</td>\n",
              "    </tr>\n",
              "    <tr>\n",
              "      <th>3</th>\n",
              "      <td>High</td>\n",
              "      <td>2.068174</td>\n",
              "      <td>2.070669</td>\n",
              "    </tr>\n",
              "    <tr>\n",
              "      <th>4</th>\n",
              "      <td>Very High</td>\n",
              "      <td>2.227639</td>\n",
              "      <td>2.215516</td>\n",
              "    </tr>\n",
              "  </tbody>\n",
              "</table>\n",
              "</div>"
            ],
            "text/plain": [
              "  ParentalSupport      mean    median\n",
              "0            None  1.521602  1.471672\n",
              "1             Low  1.735855  1.740455\n",
              "2        Moderate  1.845914  1.817007\n",
              "3            High  2.068174  2.070669\n",
              "4       Very High  2.227639  2.215516"
            ]
          },
          "execution_count": 234,
          "metadata": {},
          "output_type": "execute_result"
        }
      ],
      "source": [
        "replace_frame = {0:'None',1:'Low',2:'Moderate',3:'High',4:'Very High'}\n",
        "groupbyParentalSupport['ParentalSupport'] = groupbyParentalSupport['ParentalSupport'].replace(replace_frame)\n",
        "groupbyParentalSupport"
      ]
    },
    {
      "cell_type": "code",
      "execution_count": null,
      "id": "2cc42396-f204-49ef-9a5d-0d1b40daf5f7",
      "metadata": {
        "id": "2cc42396-f204-49ef-9a5d-0d1b40daf5f7",
        "outputId": "69ff40f7-57bd-473f-d6e9-5fe9419a64e6"
      },
      "outputs": [
        {
          "data": {
            "image/png": "[encoded data removed]",
            "text/plain": [
              "<Figure size 800x500 with 1 Axes>"
            ]
          },
          "metadata": {},
          "output_type": "display_data"
        }
      ],
      "source": [
        "ax =groupbyParentalSupport.plot.bar(figsize = (8,5))\n",
        "# figsize sets size of plot\n",
        "ax.set_xticklabels(groupbyParentalSupport['ParentalSupport'],rotation = 45)\n",
        "\n",
        "plt.xlabel('Parental Support')\n",
        "# setting a label for x axis\n",
        "plt.ylabel('GPA')\n",
        "# Setting a label for y axis\n",
        "plt.title('Parental Support VS GPA')\n",
        "# Setting the title of chart\n",
        "plt.show()"
      ]
    },
    {
      "cell_type": "markdown",
      "id": "1ed2e690-f096-4f87-be46-6f45d2a950f4",
      "metadata": {
        "id": "1ed2e690-f096-4f87-be46-6f45d2a950f4"
      },
      "source": [
        "- According to the bar chart, when the parental support increases, both mean and median of the GPA shows an increasing trend\n",
        "- The mean and median values of each level of parental support are very similar thus the distribution is fairly symmetrical for each group\n",
        "- This relationship may be because students who get more parental support are generally more confident in their studies and receive better care"
      ]
    },
    {
      "cell_type": "markdown",
      "id": "c62940e6-0d78-40d2-bdfd-021275233db3",
      "metadata": {
        "id": "c62940e6-0d78-40d2-bdfd-021275233db3"
      },
      "source": [
        "3. Calculate the average GPA for students who receive Tutoring versus those who don't.\n",
        "Visualise the results using a barchart and explain what you observe."
      ]
    },
    {
      "cell_type": "code",
      "execution_count": null,
      "id": "58396b02-c806-49a9-a470-9ae2fb9915af",
      "metadata": {
        "id": "58396b02-c806-49a9-a470-9ae2fb9915af",
        "outputId": "b14373af-0bfd-4bb3-b25e-24f96be4875f"
      },
      "outputs": [
        {
          "data": {
            "text/html": [
              "<div>\n",
              "<style scoped>\n",
              "    .dataframe tbody tr th:only-of-type {\n",
              "        vertical-align: middle;\n",
              "    }\n",
              "\n",
              "    .dataframe tbody tr th {\n",
              "        vertical-align: top;\n",
              "    }\n",
              "\n",
              "    .dataframe thead th {\n",
              "        text-align: right;\n",
              "    }\n",
              "</style>\n",
              "<table border=\"1\" class=\"dataframe\">\n",
              "  <thead>\n",
              "    <tr style=\"text-align: right;\">\n",
              "      <th></th>\n",
              "      <th>GPA</th>\n",
              "    </tr>\n",
              "    <tr>\n",
              "      <th>Tutoring</th>\n",
              "      <th></th>\n",
              "    </tr>\n",
              "  </thead>\n",
              "  <tbody>\n",
              "    <tr>\n",
              "      <th>No</th>\n",
              "      <td>1.804967</td>\n",
              "    </tr>\n",
              "    <tr>\n",
              "      <th>Yes</th>\n",
              "      <td>2.123106</td>\n",
              "    </tr>\n",
              "  </tbody>\n",
              "</table>\n",
              "</div>"
            ],
            "text/plain": [
              "               GPA\n",
              "Tutoring          \n",
              "No        1.804967\n",
              "Yes       2.123106"
            ]
          },
          "execution_count": 236,
          "metadata": {},
          "output_type": "execute_result"
        }
      ],
      "source": [
        "fun4 = {'GPA':'mean'}\n",
        "groupbyTutoring = student_list.groupby('Tutoring').agg(fun4)\n",
        "groupbyTutoring"
      ]
    },
    {
      "cell_type": "code",
      "execution_count": null,
      "id": "5e20b186-9494-4d10-97d2-d4036e450541",
      "metadata": {
        "id": "5e20b186-9494-4d10-97d2-d4036e450541",
        "outputId": "33e44f0b-1db9-4d5c-fa9d-89b14312a0cd"
      },
      "outputs": [
        {
          "data": {
            "image/png": "[encoded data removed]",
            "text/plain": [
              "<Figure size 800x800 with 1 Axes>"
            ]
          },
          "metadata": {},
          "output_type": "display_data"
        }
      ],
      "source": [
        "groupbyTutoring = groupbyTutoring.reset_index()\n",
        "ax = groupbyTutoring.plot.bar(figsize = (8,8))\n",
        "ax.set_xticks(range(len(groupbyTutoring)))\n",
        "ax.set_xticklabels(groupbyTutoring['Tutoring'])\n",
        "\n",
        "plt.xlabel('Tutoring')\n",
        "# setting a label for x axis\n",
        "plt.ylabel('Average GPA')\n",
        "# Setting a label for y axis\n",
        "plt.title('Tutoring VS GPA')\n",
        "# Setting the title of chart\n",
        "plt.show()"
      ]
    },
    {
      "cell_type": "markdown",
      "id": "8ccd7435-be43-4a3f-8968-d3d89c92b9cd",
      "metadata": {
        "id": "8ccd7435-be43-4a3f-8968-d3d89c92b9cd"
      },
      "source": [
        "- Based on the bar chart, students who receive tutoring have higher average GPA (slightly above 2.0) compared to those who don't (slightly above 1.75)\n",
        "- This may be because students who receive tutoring get more practice and are more well-versed in using answering techniques to tackle exam questions"
      ]
    }
  ],
  "metadata": {
    "kernelspec": {
      "display_name": "Python 3 (ipykernel)",
      "language": "python",
      "name": "python3"
    },
    "language_info": {
      "codemirror_mode": {
        "name": "ipython",
        "version": 3
      },
      "file_extension": ".py",
      "mimetype": "text/x-python",
      "name": "python",
      "nbconvert_exporter": "python",
      "pygments_lexer": "ipython3",
      "version": "3.12.4"
    },
    "colab": {
      "provenance": []
    }
  },
  "nbformat": 4,
  "nbformat_minor": 5
}